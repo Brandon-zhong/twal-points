{
 "cells": [
  {
   "cell_type": "code",
   "execution_count": 7,
   "id": "8ab85aae",
   "metadata": {},
   "outputs": [],
   "source": [
    "import sys\n",
    "import polars as pl\n",
    "from datetime import date, timedelta, datetime, timezone\n",
    "import numpy as np\n",
    "\n",
    "sys.path.append(\"../v3-polars/\")\n",
    "from v3 import state"
   ]
  },
  {
   "cell_type": "code",
   "execution_count": 8,
   "id": "1fc45b0b",
   "metadata": {},
   "outputs": [
    {
     "name": "stdout",
     "output_type": "stream",
     "text": [
      "Starting table factory_pool_created\n",
      "Found 12369739 to 19662499\n",
      "Found data\n",
      "Updated to 19662500 to 19662499\n",
      "Nothing to update\n",
      "Starting table pool_swap_events\n",
      "Found 12369879 to 19662556\n",
      "Found data\n",
      "Updated to 19662557 to 19662556\n",
      "Nothing to update\n",
      "Starting table pool_mint_burn_events\n",
      "Found 12369739 to 19657198\n",
      "Found data\n",
      "Updated to 19657199 to 19657198\n",
      "Nothing to update\n",
      "Starting table pool_initialize_events\n",
      "Found 12369739 to 19650823\n",
      "Found data\n",
      "Updated to 19650824 to 19650823\n",
      "Nothing to update\n"
     ]
    }
   ],
   "source": [
    "poolAddress = '0xbf7d01d6cddecb72c2369d1b421967098b10def7'\n",
    "update = True\n",
    "\n",
    "pool = state.v3Pool(poolAddress, 'ethereum', update = update)\n",
    "\n",
    "swaps = pool.swaps\n",
    "mb = pool.mb"
   ]
  },
  {
   "cell_type": "code",
   "execution_count": 9,
   "id": "1c3dcaf0",
   "metadata": {},
   "outputs": [],
   "source": [
    "_ = '''\n",
    "TODO\n",
    "\n",
    "- I am checking liquidity by a manufactured key (which may get transferred)\n",
    "I need to calculate the key if not nft position manager\n",
    "This can be solved by using tokenid\n",
    "\n",
    "- We distribute as of last swap in the block\n",
    "However, this may pick up JIT liquidity. We can calculate as_of the end of the block,\n",
    "but this will mean we cannot check that we are arriving at the correct number\n",
    "However, I am confident that we are\n",
    "\n",
    "- I am only distributing rewards for the creator of a position\n",
    "We could add a check for transfers to the mb frame\n",
    "'''"
   ]
  },
  {
   "cell_type": "code",
   "execution_count": 70,
   "id": "84be86d3",
   "metadata": {},
   "outputs": [],
   "source": [
    "# key = (from_address-tick_lower-tick_upper)\n",
    "# this is how core indexes positions but uses keccack(key) instead\n",
    "mb = mb.with_columns(key = (pl.col('from_address') + \"-\" + \n",
    "                       pl.col('tick_lower').cast(pl.Utf8) + \"-\" + \n",
    "                       pl.col('tick_upper').cast(pl.Utf8)),\n",
    "                     liquidity_delta = pl.col('type_of_event') * pl.col(\"amount\")\n",
    "                    )"
   ]
  },
  {
   "cell_type": "code",
   "execution_count": 131,
   "id": "f8ad4b84",
   "metadata": {},
   "outputs": [
    {
     "data": {
      "text/html": [
       "<div><style>\n",
       ".dataframe > thead > tr > th,\n",
       ".dataframe > tbody > tr > td {\n",
       "  text-align: right;\n",
       "  white-space: pre-wrap;\n",
       "}\n",
       "</style>\n",
       "<small>shape: (2_548, 7)</small><table border=\"1\" class=\"dataframe\"><thead><tr><th>block_number</th><th>block_timestamp</th><th>transaction_index</th><th>tick</th><th>liquidity</th><th>liquidity_delta</th><th>twal</th></tr><tr><td>i64</td><td>datetime[μs, UTC]</td><td>i64</td><td>str</td><td>str</td><td>f64</td><td>i64</td></tr></thead><tbody><tr><td>19317887</td><td>2024-02-27 09:06:35 UTC</td><td>151</td><td>&quot;265&quot;</td><td>&quot;36786839939111…</td><td>NaN</td><td>null</td></tr><tr><td>19317956</td><td>2024-02-27 09:20:35 UTC</td><td>52</td><td>&quot;266&quot;</td><td>&quot;36786839939111…</td><td>NaN</td><td>840</td></tr><tr><td>19317964</td><td>2024-02-27 09:22:11 UTC</td><td>57</td><td>&quot;272&quot;</td><td>&quot;36786839939111…</td><td>NaN</td><td>96</td></tr><tr><td>19317990</td><td>2024-02-27 09:27:23 UTC</td><td>83</td><td>&quot;277&quot;</td><td>&quot;36786839939111…</td><td>NaN</td><td>312</td></tr><tr><td>19318086</td><td>2024-02-27 09:46:47 UTC</td><td>78</td><td>&quot;278&quot;</td><td>&quot;36786839939111…</td><td>NaN</td><td>1164</td></tr><tr><td>19318110</td><td>2024-02-27 09:51:35 UTC</td><td>66</td><td>&quot;280&quot;</td><td>&quot;36786839939111…</td><td>NaN</td><td>288</td></tr><tr><td>19318230</td><td>2024-02-27 10:15:47 UTC</td><td>180</td><td>&quot;281&quot;</td><td>&quot;36786839939111…</td><td>NaN</td><td>1452</td></tr><tr><td>19318277</td><td>2024-02-27 10:25:11 UTC</td><td>115</td><td>&quot;303&quot;</td><td>&quot;36786839939111…</td><td>NaN</td><td>564</td></tr><tr><td>19318301</td><td>2024-02-27 10:29:59 UTC</td><td>124</td><td>&quot;308&quot;</td><td>&quot;36786839939111…</td><td>NaN</td><td>288</td></tr><tr><td>19318393</td><td>2024-02-27 10:48:23 UTC</td><td>148</td><td>&quot;308&quot;</td><td>&quot;36786839939111…</td><td>NaN</td><td>1104</td></tr><tr><td>19318427</td><td>2024-02-27 10:55:11 UTC</td><td>179</td><td>&quot;309&quot;</td><td>&quot;36786839939111…</td><td>NaN</td><td>408</td></tr><tr><td>19318494</td><td>2024-02-27 11:08:35 UTC</td><td>102</td><td>&quot;308&quot;</td><td>&quot;36786839939111…</td><td>NaN</td><td>804</td></tr><tr><td>&hellip;</td><td>&hellip;</td><td>&hellip;</td><td>&hellip;</td><td>&hellip;</td><td>&hellip;</td><td>&hellip;</td></tr><tr><td>19549065</td><td>2024-03-30 20:13:47 UTC</td><td>103</td><td>&quot;363&quot;</td><td>&quot;65889787513485…</td><td>NaN</td><td>624</td></tr><tr><td>19549081</td><td>2024-03-30 20:16:59 UTC</td><td>58</td><td>&quot;397&quot;</td><td>&quot;65889787513485…</td><td>NaN</td><td>192</td></tr><tr><td>19549296</td><td>2024-03-30 21:00:47 UTC</td><td>181</td><td>&quot;366&quot;</td><td>&quot;65889787513485…</td><td>NaN</td><td>2628</td></tr><tr><td>19549347</td><td>2024-03-30 21:10:59 UTC</td><td>136</td><td>&quot;368&quot;</td><td>&quot;65889787513485…</td><td>NaN</td><td>612</td></tr><tr><td>19549351</td><td>2024-03-30 21:11:47 UTC</td><td>43</td><td>&quot;355&quot;</td><td>&quot;65889787513485…</td><td>NaN</td><td>48</td></tr><tr><td>19549635</td><td>2024-03-30 22:09:11 UTC</td><td>46</td><td>&quot;390&quot;</td><td>&quot;65889787513485…</td><td>NaN</td><td>3444</td></tr><tr><td>19549660</td><td>2024-03-30 22:14:11 UTC</td><td>93</td><td>&quot;372&quot;</td><td>&quot;65889787513485…</td><td>NaN</td><td>300</td></tr><tr><td>19549857</td><td>2024-03-30 22:53:59 UTC</td><td>121</td><td>&quot;376&quot;</td><td>&quot;65889787513485…</td><td>NaN</td><td>2388</td></tr><tr><td>19549950</td><td>2024-03-30 23:12:47 UTC</td><td>74</td><td>&quot;379&quot;</td><td>&quot;65889787513485…</td><td>NaN</td><td>1128</td></tr><tr><td>19549973</td><td>2024-03-30 23:17:35 UTC</td><td>104</td><td>&quot;372&quot;</td><td>&quot;65889787513485…</td><td>NaN</td><td>288</td></tr><tr><td>19550086</td><td>2024-03-30 23:40:47 UTC</td><td>74</td><td>&quot;355&quot;</td><td>&quot;65889787513485…</td><td>NaN</td><td>1392</td></tr><tr><td>19550138</td><td>2024-03-30 23:51:11 UTC</td><td>225</td><td>&quot;352&quot;</td><td>&quot;65889787513485…</td><td>NaN</td><td>624</td></tr></tbody></table></div>"
      ],
      "text/plain": [
       "shape: (2_548, 7)\n",
       "┌──────────────┬─────────────────┬─────────────────┬──────┬────────────────┬────────────────┬──────┐\n",
       "│ block_number ┆ block_timestamp ┆ transaction_ind ┆ tick ┆ liquidity      ┆ liquidity_delt ┆ twal │\n",
       "│ ---          ┆ ---             ┆ ex              ┆ ---  ┆ ---            ┆ a              ┆ ---  │\n",
       "│ i64          ┆ datetime[μs,    ┆ ---             ┆ str  ┆ str            ┆ ---            ┆ i64  │\n",
       "│              ┆ UTC]            ┆ i64             ┆      ┆                ┆ f64            ┆      │\n",
       "╞══════════════╪═════════════════╪═════════════════╪══════╪════════════════╪════════════════╪══════╡\n",
       "│ 19317887     ┆ 2024-02-27      ┆ 151             ┆ 265  ┆ 36786839939111 ┆ NaN            ┆ null │\n",
       "│              ┆ 09:06:35 UTC    ┆                 ┆      ┆ 85299506       ┆                ┆      │\n",
       "│ 19317956     ┆ 2024-02-27      ┆ 52              ┆ 266  ┆ 36786839939111 ┆ NaN            ┆ 840  │\n",
       "│              ┆ 09:20:35 UTC    ┆                 ┆      ┆ 85299506       ┆                ┆      │\n",
       "│ 19317964     ┆ 2024-02-27      ┆ 57              ┆ 272  ┆ 36786839939111 ┆ NaN            ┆ 96   │\n",
       "│              ┆ 09:22:11 UTC    ┆                 ┆      ┆ 85299506       ┆                ┆      │\n",
       "│ 19317990     ┆ 2024-02-27      ┆ 83              ┆ 277  ┆ 36786839939111 ┆ NaN            ┆ 312  │\n",
       "│              ┆ 09:27:23 UTC    ┆                 ┆      ┆ 85299506       ┆                ┆      │\n",
       "│ …            ┆ …               ┆ …               ┆ …    ┆ …              ┆ …              ┆ …    │\n",
       "│ 19549950     ┆ 2024-03-30      ┆ 74              ┆ 379  ┆ 65889787513485 ┆ NaN            ┆ 1128 │\n",
       "│              ┆ 23:12:47 UTC    ┆                 ┆      ┆ 4891027        ┆                ┆      │\n",
       "│ 19549973     ┆ 2024-03-30      ┆ 104             ┆ 372  ┆ 65889787513485 ┆ NaN            ┆ 288  │\n",
       "│              ┆ 23:17:35 UTC    ┆                 ┆      ┆ 4891027        ┆                ┆      │\n",
       "│ 19550086     ┆ 2024-03-30      ┆ 74              ┆ 355  ┆ 65889787513485 ┆ NaN            ┆ 1392 │\n",
       "│              ┆ 23:40:47 UTC    ┆                 ┆      ┆ 4891027        ┆                ┆      │\n",
       "│ 19550138     ┆ 2024-03-30      ┆ 225             ┆ 352  ┆ 65889787513485 ┆ NaN            ┆ 624  │\n",
       "│              ┆ 23:51:11 UTC    ┆                 ┆      ┆ 4891027        ┆                ┆      │\n",
       "└──────────────┴─────────────────┴─────────────────┴──────┴────────────────┴────────────────┴──────┘"
      ]
     },
     "execution_count": 131,
     "metadata": {},
     "output_type": "execute_result"
    }
   ],
   "source": [
    "tgts"
   ]
  },
  {
   "cell_type": "code",
   "execution_count": 153,
   "id": "f243311b",
   "metadata": {},
   "outputs": [
    {
     "name": "stderr",
     "output_type": "stream",
     "text": [
      "/var/folders/rg/3f5pxvz936b5l2hmxgg3jhl80000gn/T/ipykernel_20471/1470989152.py:5: DeprecationWarning: Creating Datetime ranges using `date_range(s)` is deprecated. Use `datetime_range(s)` instead.\n",
      "  for t_0 in pl.date_range(t_0, t_1, interval = interval, eager = True):\n"
     ]
    },
    {
     "name": "stdout",
     "output_type": "stream",
     "text": [
      "{'0xa58627a29bb59743ce1d781b1072c59bb1dda86d': 0.2570837694411466, '0x063bfaefcee849547eb2a344275f62537f56eec7': 0.7429162305588538}\n",
      "{'0x1724b8162669a3afb86fb56805a2b097b05ffd9f': 1.0}\n"
     ]
    }
   ],
   "source": [
    "t_0 = datetime(year = 2024, month = 3, day = 1)\n",
    "t_1 = datetime(year = 2024, month = 4, day = 14)\n",
    "\n",
    "interval = timedelta(days = 30)\n",
    "for t_0 in pl.date_range(t_0, t_1, interval = interval, eager = True):\n",
    "    \n",
    "    t_1 = t_0 + interval\n",
    "    \n",
    "    tgt_swaps = (swaps\n",
    "            .join(\n",
    "                # find the last transaction in the block\n",
    "                (swaps \n",
    "                    .select(['block_number', 'transaction_index'])\n",
    "                    .group_by('block_number')\n",
    "                    .last()\n",
    "                    .rename({\"transaction_index\": \"last_index\"})\n",
    "                ),\n",
    "                on = 'block_number', how = 'inner'\n",
    "            )\n",
    "            # drop all txs that arent the final swap\n",
    "            .filter(pl.col(\"last_index\") == pl.col('transaction_index'))\n",
    "            .sort('block_number')\n",
    "            .filter(pl.col('block_timestamp') <= t_1.replace(tzinfo = timezone.utc))\n",
    "            .select('block_number', 'block_timestamp', 'transaction_index', \n",
    "                     'tick', 'liquidity')\n",
    "            .with_columns(liquidity_delta = np.nan)\n",
    "            )\n",
    "\n",
    "    tgt_mb = (\n",
    "            mb\n",
    "            .join(\n",
    "                # find the last transaction in the block\n",
    "                (mb \n",
    "                    .select(['block_number', 'transaction_index'])\n",
    "                    .group_by('block_number')\n",
    "                    .last()\n",
    "                    .rename({\"transaction_index\": \"last_index\"})\n",
    "                ),\n",
    "                on = 'block_number', how = 'inner'\n",
    "            )\n",
    "            # drop all txs that arent the final swap\n",
    "            .filter(pl.col(\"last_index\") == pl.col('transaction_index'))\n",
    "            .filter(pl.col('block_timestamp') <= t_1.replace(tzinfo = timezone.utc))\n",
    "            .filter(pl.col('block_number') >= tgt_swaps['block_number'].min())\n",
    "            .select('block_number', 'block_timestamp', 'transaction_index', 'liquidity_delta')\n",
    "            .with_columns(tick = pl.lit(None), liquidity = pl.lit(None))\n",
    "            )\n",
    "\n",
    "\n",
    "\n",
    "    tgts = (pl.concat([tgt_swaps, tgt_mb], how = 'diagonal_relaxed')\n",
    "            .sort(by = ['block_number', 'transaction_index'])\n",
    "            .with_columns(tick = pl.col('tick').forward_fill(),\n",
    "                          liquidity = pl.col('liquidity').forward_fill())\n",
    "            .with_columns(twal=pl.col(\"block_timestamp\").diff().dt.seconds())\n",
    "           )\n",
    "\n",
    "    subset = tgts.filter(pl.col('block_timestamp') >= t_0.replace(tzinfo = timezone.utc))\n",
    "    \n",
    "    if subset.is_empty():\n",
    "        subset = tgts.tail(1)\n",
    "        \n",
    "    data = []\n",
    "\n",
    "    iterator = (\n",
    "        subset\n",
    "        .select(['block_number', 'transaction_index', \n",
    "                 'tick', 'liquidity', 'twal', 'liquidity_delta'])\n",
    "        .sort('block_number')\n",
    "    )\n",
    "\n",
    "\n",
    "    for (bn, tx_index, tick, liquidity, twal, ld) in iterator.iter_rows():\n",
    "        if not np.isnan(ld):\n",
    "            break\n",
    "            \n",
    "        tick, liquidity = int(tick), int(liquidity)\n",
    "\n",
    "        # decimalized version of block, index\n",
    "        as_of = bn + tx_index / 1e4\n",
    "\n",
    "        # calculate all lps in range as of the period we want\n",
    "        lps = (mb\n",
    "                 .filter((pl.col(\"as_of\") < as_of) &\n",
    "                         # positions are in range if tl <= tick < tu\n",
    "                         (pl.col(\"tick_lower\") <= tick) & \n",
    "                         (pl.col('tick_upper') > tick)\n",
    "                        )\n",
    "                 .select(['key', 'liquidity_delta'])\n",
    "                 .group_by('key')\n",
    "                 .sum()\n",
    "                 # filter out the empty positions\n",
    "                 .filter(pl.col(\"liquidity_delta\") != 0)\n",
    "                )\n",
    "\n",
    "        # TODO\n",
    "        # this is possible if there was a transfer of liquidity \n",
    "        # we could instead check via tokenID (which cannot change)\n",
    "        assert lps.filter(pl.col('liquidity_delta') < 0).is_empty(), \"Negative liquidity\"\n",
    "\n",
    "        # we know that all lps are positive and in-range\n",
    "        tracked_liquidity = 0\n",
    "        lp_dict = {}\n",
    "\n",
    "        # calculate their shares\n",
    "        for key, liquidity_delta in lps.iter_rows():\n",
    "            tracked_liquidity += liquidity_delta\n",
    "\n",
    "            lp_dict[key] = liquidity_delta\n",
    "\n",
    "        # we know that all liquidity is tracked and their shares    \n",
    "        # most likely issue here is a floating point error\n",
    "        assert np.isclose(float(liquidity), float(tracked_liquidity)), \"Missing liquidity\"\n",
    "\n",
    "        data.append([bn, twal, liquidity, lp_dict.copy()])\n",
    "        \n",
    "    shares = {}\n",
    "    total_time = 0\n",
    "    \n",
    "    for bn, twal, liquidity, lps in data:\n",
    "        total_time += twal\n",
    "    \n",
    "        for lp in lps.keys():\n",
    "            # schema = (address, tl, tu)\n",
    "            address = lp.split(\"-\")[0]\n",
    "\n",
    "            current_share = shares.get(address, 0)\n",
    "            shares[address] = current_share + twal * (lps[lp] / liquidity)\n",
    "\n",
    "        assert np.isclose(total_time, sum(shares.values())), 'Missing share of time'\n",
    "\n",
    "    for lp in shares.keys():\n",
    "        shares[lp] = shares[lp] / total_time\n",
    "    \n",
    "    print(shares)"
   ]
  },
  {
   "cell_type": "code",
   "execution_count": 154,
   "id": "f473f33d",
   "metadata": {},
   "outputs": [],
   "source": [
    "tick, liquidity = int(tick), int(liquidity)\n",
    "\n",
    "# decimalized version of block, index\n",
    "as_of = bn + tx_index / 1e4\n",
    "\n",
    "# calculate all lps in range as of the period we want\n",
    "lps = (mb\n",
    "         .filter((pl.col(\"as_of\") <= as_of) &\n",
    "                 # positions are in range if tl <= tick < tu\n",
    "                 (pl.col(\"tick_lower\") <= tick) & \n",
    "                 (pl.col('tick_upper') > tick)\n",
    "                )\n",
    "         .select(['key', 'liquidity_delta'])\n",
    "         .group_by('key')\n",
    "         .sum()\n",
    "         # filter out the empty positions\n",
    "         .filter(pl.col(\"liquidity_delta\") != 0)\n",
    "        )\n"
   ]
  },
  {
   "cell_type": "code",
   "execution_count": 162,
   "id": "d0660b5b",
   "metadata": {},
   "outputs": [
    {
     "data": {
      "text/html": [
       "<div><style>\n",
       ".dataframe > thead > tr > th,\n",
       ".dataframe > tbody > tr > td {\n",
       "  text-align: right;\n",
       "  white-space: pre-wrap;\n",
       "}\n",
       "</style>\n",
       "<small>shape: (4_193, 7)</small><table border=\"1\" class=\"dataframe\"><thead><tr><th>block_number</th><th>block_timestamp</th><th>transaction_index</th><th>tick</th><th>liquidity</th><th>liquidity_delta</th><th>twal</th></tr><tr><td>i64</td><td>datetime[μs, UTC]</td><td>i64</td><td>str</td><td>str</td><td>f64</td><td>i64</td></tr></thead><tbody><tr><td>19317887</td><td>2024-02-27 09:06:35 UTC</td><td>151</td><td>&quot;265&quot;</td><td>&quot;36786839939111…</td><td>NaN</td><td>null</td></tr><tr><td>19317956</td><td>2024-02-27 09:20:35 UTC</td><td>52</td><td>&quot;266&quot;</td><td>&quot;36786839939111…</td><td>NaN</td><td>840</td></tr><tr><td>19317964</td><td>2024-02-27 09:22:11 UTC</td><td>57</td><td>&quot;272&quot;</td><td>&quot;36786839939111…</td><td>NaN</td><td>96</td></tr><tr><td>19317990</td><td>2024-02-27 09:27:23 UTC</td><td>83</td><td>&quot;277&quot;</td><td>&quot;36786839939111…</td><td>NaN</td><td>312</td></tr><tr><td>19318086</td><td>2024-02-27 09:46:47 UTC</td><td>78</td><td>&quot;278&quot;</td><td>&quot;36786839939111…</td><td>NaN</td><td>1164</td></tr><tr><td>19318110</td><td>2024-02-27 09:51:35 UTC</td><td>66</td><td>&quot;280&quot;</td><td>&quot;36786839939111…</td><td>NaN</td><td>288</td></tr><tr><td>19318230</td><td>2024-02-27 10:15:47 UTC</td><td>180</td><td>&quot;281&quot;</td><td>&quot;36786839939111…</td><td>NaN</td><td>1452</td></tr><tr><td>19318277</td><td>2024-02-27 10:25:11 UTC</td><td>115</td><td>&quot;303&quot;</td><td>&quot;36786839939111…</td><td>NaN</td><td>564</td></tr><tr><td>19318301</td><td>2024-02-27 10:29:59 UTC</td><td>124</td><td>&quot;308&quot;</td><td>&quot;36786839939111…</td><td>NaN</td><td>288</td></tr><tr><td>19318393</td><td>2024-02-27 10:48:23 UTC</td><td>148</td><td>&quot;308&quot;</td><td>&quot;36786839939111…</td><td>NaN</td><td>1104</td></tr><tr><td>19318427</td><td>2024-02-27 10:55:11 UTC</td><td>179</td><td>&quot;309&quot;</td><td>&quot;36786839939111…</td><td>NaN</td><td>408</td></tr><tr><td>19318494</td><td>2024-02-27 11:08:35 UTC</td><td>102</td><td>&quot;308&quot;</td><td>&quot;36786839939111…</td><td>NaN</td><td>804</td></tr><tr><td>&hellip;</td><td>&hellip;</td><td>&hellip;</td><td>&hellip;</td><td>&hellip;</td><td>&hellip;</td><td>&hellip;</td></tr><tr><td>19660436</td><td>2024-04-15 10:53:23 UTC</td><td>32</td><td>&quot;92&quot;</td><td>&quot;65889787513485…</td><td>NaN</td><td>456</td></tr><tr><td>19660452</td><td>2024-04-15 10:56:35 UTC</td><td>194</td><td>&quot;90&quot;</td><td>&quot;65889787513485…</td><td>NaN</td><td>192</td></tr><tr><td>19660468</td><td>2024-04-15 10:59:47 UTC</td><td>47</td><td>&quot;87&quot;</td><td>&quot;65889787513485…</td><td>NaN</td><td>192</td></tr><tr><td>19660474</td><td>2024-04-15 11:00:59 UTC</td><td>156</td><td>&quot;93&quot;</td><td>&quot;65889787513485…</td><td>NaN</td><td>72</td></tr><tr><td>19660477</td><td>2024-04-15 11:01:35 UTC</td><td>183</td><td>&quot;91&quot;</td><td>&quot;65889787513485…</td><td>NaN</td><td>36</td></tr><tr><td>19660625</td><td>2024-04-15 11:31:23 UTC</td><td>156</td><td>&quot;91&quot;</td><td>&quot;65889787513485…</td><td>NaN</td><td>1788</td></tr><tr><td>19660664</td><td>2024-04-15 11:39:11 UTC</td><td>126</td><td>&quot;71&quot;</td><td>&quot;65889787513485…</td><td>NaN</td><td>468</td></tr><tr><td>19661011</td><td>2024-04-15 12:48:47 UTC</td><td>2</td><td>&quot;69&quot;</td><td>&quot;0&quot;</td><td>NaN</td><td>4176</td></tr><tr><td>19661179</td><td>2024-04-15 13:22:47 UTC</td><td>127</td><td>&quot;82&quot;</td><td>&quot;65889787513485…</td><td>NaN</td><td>2040</td></tr><tr><td>19661862</td><td>2024-04-15 15:40:11 UTC</td><td>41</td><td>&quot;72&quot;</td><td>&quot;65889787513485…</td><td>NaN</td><td>8244</td></tr><tr><td>19662113</td><td>2024-04-15 16:30:35 UTC</td><td>83</td><td>&quot;73&quot;</td><td>&quot;65889787513485…</td><td>NaN</td><td>3024</td></tr><tr><td>19662422</td><td>2024-04-15 17:33:11 UTC</td><td>117</td><td>&quot;78&quot;</td><td>&quot;65889787513485…</td><td>NaN</td><td>3756</td></tr></tbody></table></div>"
      ],
      "text/plain": [
       "shape: (4_193, 7)\n",
       "┌──────────────┬─────────────────┬─────────────────┬──────┬────────────────┬────────────────┬──────┐\n",
       "│ block_number ┆ block_timestamp ┆ transaction_ind ┆ tick ┆ liquidity      ┆ liquidity_delt ┆ twal │\n",
       "│ ---          ┆ ---             ┆ ex              ┆ ---  ┆ ---            ┆ a              ┆ ---  │\n",
       "│ i64          ┆ datetime[μs,    ┆ ---             ┆ str  ┆ str            ┆ ---            ┆ i64  │\n",
       "│              ┆ UTC]            ┆ i64             ┆      ┆                ┆ f64            ┆      │\n",
       "╞══════════════╪═════════════════╪═════════════════╪══════╪════════════════╪════════════════╪══════╡\n",
       "│ 19317887     ┆ 2024-02-27      ┆ 151             ┆ 265  ┆ 36786839939111 ┆ NaN            ┆ null │\n",
       "│              ┆ 09:06:35 UTC    ┆                 ┆      ┆ 85299506       ┆                ┆      │\n",
       "│ 19317956     ┆ 2024-02-27      ┆ 52              ┆ 266  ┆ 36786839939111 ┆ NaN            ┆ 840  │\n",
       "│              ┆ 09:20:35 UTC    ┆                 ┆      ┆ 85299506       ┆                ┆      │\n",
       "│ 19317964     ┆ 2024-02-27      ┆ 57              ┆ 272  ┆ 36786839939111 ┆ NaN            ┆ 96   │\n",
       "│              ┆ 09:22:11 UTC    ┆                 ┆      ┆ 85299506       ┆                ┆      │\n",
       "│ 19317990     ┆ 2024-02-27      ┆ 83              ┆ 277  ┆ 36786839939111 ┆ NaN            ┆ 312  │\n",
       "│              ┆ 09:27:23 UTC    ┆                 ┆      ┆ 85299506       ┆                ┆      │\n",
       "│ …            ┆ …               ┆ …               ┆ …    ┆ …              ┆ …              ┆ …    │\n",
       "│ 19661179     ┆ 2024-04-15      ┆ 127             ┆ 82   ┆ 65889787513485 ┆ NaN            ┆ 2040 │\n",
       "│              ┆ 13:22:47 UTC    ┆                 ┆      ┆ 4891027        ┆                ┆      │\n",
       "│ 19661862     ┆ 2024-04-15      ┆ 41              ┆ 72   ┆ 65889787513485 ┆ NaN            ┆ 8244 │\n",
       "│              ┆ 15:40:11 UTC    ┆                 ┆      ┆ 4891027        ┆                ┆      │\n",
       "│ 19662113     ┆ 2024-04-15      ┆ 83              ┆ 73   ┆ 65889787513485 ┆ NaN            ┆ 3024 │\n",
       "│              ┆ 16:30:35 UTC    ┆                 ┆      ┆ 4891027        ┆                ┆      │\n",
       "│ 19662422     ┆ 2024-04-15      ┆ 117             ┆ 78   ┆ 65889787513485 ┆ NaN            ┆ 3756 │\n",
       "│              ┆ 17:33:11 UTC    ┆                 ┆      ┆ 4891027        ┆                ┆      │\n",
       "└──────────────┴─────────────────┴─────────────────┴──────┴────────────────┴────────────────┴──────┘"
      ]
     },
     "execution_count": 162,
     "metadata": {},
     "output_type": "execute_result"
    }
   ],
   "source": [
    "tgts"
   ]
  },
  {
   "cell_type": "code",
   "execution_count": 163,
   "id": "fa719f9e",
   "metadata": {},
   "outputs": [
    {
     "data": {
      "text/html": [
       "<div><style>\n",
       ".dataframe > thead > tr > th,\n",
       ".dataframe > tbody > tr > td {\n",
       "  text-align: right;\n",
       "  white-space: pre-wrap;\n",
       "}\n",
       "</style>\n",
       "<small>shape: (4_193, 8)</small><table border=\"1\" class=\"dataframe\"><thead><tr><th>block_number</th><th>block_timestamp</th><th>transaction_index</th><th>tick</th><th>liquidity</th><th>liquidity_delta</th><th>twal</th><th>last_index</th></tr><tr><td>i64</td><td>datetime[μs, UTC]</td><td>i64</td><td>str</td><td>str</td><td>f64</td><td>i64</td><td>i64</td></tr></thead><tbody><tr><td>19317887</td><td>2024-02-27 09:06:35 UTC</td><td>151</td><td>&quot;265&quot;</td><td>&quot;36786839939111…</td><td>NaN</td><td>null</td><td>151</td></tr><tr><td>19317956</td><td>2024-02-27 09:20:35 UTC</td><td>52</td><td>&quot;266&quot;</td><td>&quot;36786839939111…</td><td>NaN</td><td>840</td><td>52</td></tr><tr><td>19317964</td><td>2024-02-27 09:22:11 UTC</td><td>57</td><td>&quot;272&quot;</td><td>&quot;36786839939111…</td><td>NaN</td><td>96</td><td>57</td></tr><tr><td>19317990</td><td>2024-02-27 09:27:23 UTC</td><td>83</td><td>&quot;277&quot;</td><td>&quot;36786839939111…</td><td>NaN</td><td>312</td><td>83</td></tr><tr><td>19318086</td><td>2024-02-27 09:46:47 UTC</td><td>78</td><td>&quot;278&quot;</td><td>&quot;36786839939111…</td><td>NaN</td><td>1164</td><td>78</td></tr><tr><td>19318110</td><td>2024-02-27 09:51:35 UTC</td><td>66</td><td>&quot;280&quot;</td><td>&quot;36786839939111…</td><td>NaN</td><td>288</td><td>66</td></tr><tr><td>19318230</td><td>2024-02-27 10:15:47 UTC</td><td>180</td><td>&quot;281&quot;</td><td>&quot;36786839939111…</td><td>NaN</td><td>1452</td><td>180</td></tr><tr><td>19318277</td><td>2024-02-27 10:25:11 UTC</td><td>115</td><td>&quot;303&quot;</td><td>&quot;36786839939111…</td><td>NaN</td><td>564</td><td>115</td></tr><tr><td>19318301</td><td>2024-02-27 10:29:59 UTC</td><td>124</td><td>&quot;308&quot;</td><td>&quot;36786839939111…</td><td>NaN</td><td>288</td><td>124</td></tr><tr><td>19318393</td><td>2024-02-27 10:48:23 UTC</td><td>148</td><td>&quot;308&quot;</td><td>&quot;36786839939111…</td><td>NaN</td><td>1104</td><td>148</td></tr><tr><td>19318427</td><td>2024-02-27 10:55:11 UTC</td><td>179</td><td>&quot;309&quot;</td><td>&quot;36786839939111…</td><td>NaN</td><td>408</td><td>179</td></tr><tr><td>19318494</td><td>2024-02-27 11:08:35 UTC</td><td>102</td><td>&quot;308&quot;</td><td>&quot;36786839939111…</td><td>NaN</td><td>804</td><td>102</td></tr><tr><td>&hellip;</td><td>&hellip;</td><td>&hellip;</td><td>&hellip;</td><td>&hellip;</td><td>&hellip;</td><td>&hellip;</td><td>&hellip;</td></tr><tr><td>19660436</td><td>2024-04-15 10:53:23 UTC</td><td>32</td><td>&quot;92&quot;</td><td>&quot;65889787513485…</td><td>NaN</td><td>456</td><td>32</td></tr><tr><td>19660452</td><td>2024-04-15 10:56:35 UTC</td><td>194</td><td>&quot;90&quot;</td><td>&quot;65889787513485…</td><td>NaN</td><td>192</td><td>194</td></tr><tr><td>19660468</td><td>2024-04-15 10:59:47 UTC</td><td>47</td><td>&quot;87&quot;</td><td>&quot;65889787513485…</td><td>NaN</td><td>192</td><td>47</td></tr><tr><td>19660474</td><td>2024-04-15 11:00:59 UTC</td><td>156</td><td>&quot;93&quot;</td><td>&quot;65889787513485…</td><td>NaN</td><td>72</td><td>156</td></tr><tr><td>19660477</td><td>2024-04-15 11:01:35 UTC</td><td>183</td><td>&quot;91&quot;</td><td>&quot;65889787513485…</td><td>NaN</td><td>36</td><td>183</td></tr><tr><td>19660625</td><td>2024-04-15 11:31:23 UTC</td><td>156</td><td>&quot;91&quot;</td><td>&quot;65889787513485…</td><td>NaN</td><td>1788</td><td>156</td></tr><tr><td>19660664</td><td>2024-04-15 11:39:11 UTC</td><td>126</td><td>&quot;71&quot;</td><td>&quot;65889787513485…</td><td>NaN</td><td>468</td><td>126</td></tr><tr><td>19661011</td><td>2024-04-15 12:48:47 UTC</td><td>2</td><td>&quot;69&quot;</td><td>&quot;0&quot;</td><td>NaN</td><td>4176</td><td>2</td></tr><tr><td>19661179</td><td>2024-04-15 13:22:47 UTC</td><td>127</td><td>&quot;82&quot;</td><td>&quot;65889787513485…</td><td>NaN</td><td>2040</td><td>127</td></tr><tr><td>19661862</td><td>2024-04-15 15:40:11 UTC</td><td>41</td><td>&quot;72&quot;</td><td>&quot;65889787513485…</td><td>NaN</td><td>8244</td><td>41</td></tr><tr><td>19662113</td><td>2024-04-15 16:30:35 UTC</td><td>83</td><td>&quot;73&quot;</td><td>&quot;65889787513485…</td><td>NaN</td><td>3024</td><td>83</td></tr><tr><td>19662422</td><td>2024-04-15 17:33:11 UTC</td><td>117</td><td>&quot;78&quot;</td><td>&quot;65889787513485…</td><td>NaN</td><td>3756</td><td>117</td></tr></tbody></table></div>"
      ],
      "text/plain": [
       "shape: (4_193, 8)\n",
       "┌──────────────┬──────────────┬─────────────┬──────┬─────────────┬─────────────┬──────┬────────────┐\n",
       "│ block_number ┆ block_timest ┆ transaction ┆ tick ┆ liquidity   ┆ liquidity_d ┆ twal ┆ last_index │\n",
       "│ ---          ┆ amp          ┆ _index      ┆ ---  ┆ ---         ┆ elta        ┆ ---  ┆ ---        │\n",
       "│ i64          ┆ ---          ┆ ---         ┆ str  ┆ str         ┆ ---         ┆ i64  ┆ i64        │\n",
       "│              ┆ datetime[μs, ┆ i64         ┆      ┆             ┆ f64         ┆      ┆            │\n",
       "│              ┆ UTC]         ┆             ┆      ┆             ┆             ┆      ┆            │\n",
       "╞══════════════╪══════════════╪═════════════╪══════╪═════════════╪═════════════╪══════╪════════════╡\n",
       "│ 19317887     ┆ 2024-02-27   ┆ 151         ┆ 265  ┆ 36786839939 ┆ NaN         ┆ null ┆ 151        │\n",
       "│              ┆ 09:06:35 UTC ┆             ┆      ┆ 11185299506 ┆             ┆      ┆            │\n",
       "│ 19317956     ┆ 2024-02-27   ┆ 52          ┆ 266  ┆ 36786839939 ┆ NaN         ┆ 840  ┆ 52         │\n",
       "│              ┆ 09:20:35 UTC ┆             ┆      ┆ 11185299506 ┆             ┆      ┆            │\n",
       "│ 19317964     ┆ 2024-02-27   ┆ 57          ┆ 272  ┆ 36786839939 ┆ NaN         ┆ 96   ┆ 57         │\n",
       "│              ┆ 09:22:11 UTC ┆             ┆      ┆ 11185299506 ┆             ┆      ┆            │\n",
       "│ 19317990     ┆ 2024-02-27   ┆ 83          ┆ 277  ┆ 36786839939 ┆ NaN         ┆ 312  ┆ 83         │\n",
       "│              ┆ 09:27:23 UTC ┆             ┆      ┆ 11185299506 ┆             ┆      ┆            │\n",
       "│ …            ┆ …            ┆ …           ┆ …    ┆ …           ┆ …           ┆ …    ┆ …          │\n",
       "│ 19661179     ┆ 2024-04-15   ┆ 127         ┆ 82   ┆ 65889787513 ┆ NaN         ┆ 2040 ┆ 127        │\n",
       "│              ┆ 13:22:47 UTC ┆             ┆      ┆ 4854891027  ┆             ┆      ┆            │\n",
       "│ 19661862     ┆ 2024-04-15   ┆ 41          ┆ 72   ┆ 65889787513 ┆ NaN         ┆ 8244 ┆ 41         │\n",
       "│              ┆ 15:40:11 UTC ┆             ┆      ┆ 4854891027  ┆             ┆      ┆            │\n",
       "│ 19662113     ┆ 2024-04-15   ┆ 83          ┆ 73   ┆ 65889787513 ┆ NaN         ┆ 3024 ┆ 83         │\n",
       "│              ┆ 16:30:35 UTC ┆             ┆      ┆ 4854891027  ┆             ┆      ┆            │\n",
       "│ 19662422     ┆ 2024-04-15   ┆ 117         ┆ 78   ┆ 65889787513 ┆ NaN         ┆ 3756 ┆ 117        │\n",
       "│              ┆ 17:33:11 UTC ┆             ┆      ┆ 4854891027  ┆             ┆      ┆            │\n",
       "└──────────────┴──────────────┴─────────────┴──────┴─────────────┴─────────────┴──────┴────────────┘"
      ]
     },
     "execution_count": 163,
     "metadata": {},
     "output_type": "execute_result"
    }
   ],
   "source": [
    "(\n",
    "    tgts\n",
    "            .join(\n",
    "                # find the last transaction in the block\n",
    "                (tgts \n",
    "                    .select(['block_number', 'transaction_index'])\n",
    "                    .group_by('block_number')\n",
    "                    .last()\n",
    "                    .rename({\"transaction_index\": \"last_index\"})\n",
    "                ),\n",
    "                on = 'block_number', how = 'inner'\n",
    "            )\n",
    "     .filter(pl.col(\"last_index\") == pl.col('transaction_index'))\n",
    "    )"
   ]
  },
  {
   "cell_type": "code",
   "execution_count": 158,
   "id": "1fcd649d",
   "metadata": {},
   "outputs": [
    {
     "data": {
      "text/plain": [
       "-1.3330303255957763e+24"
      ]
     },
     "execution_count": 158,
     "metadata": {},
     "output_type": "execute_result"
    }
   ],
   "source": [
    "ld"
   ]
  },
  {
   "cell_type": "code",
   "execution_count": 155,
   "id": "32fc8da5",
   "metadata": {},
   "outputs": [
    {
     "data": {
      "text/plain": [
       "113"
      ]
     },
     "execution_count": 155,
     "metadata": {},
     "output_type": "execute_result"
    }
   ],
   "source": [
    "tick"
   ]
  },
  {
   "cell_type": "code",
   "execution_count": 156,
   "id": "34de7ace",
   "metadata": {},
   "outputs": [
    {
     "data": {
      "text/plain": [
       "658897875134854891027"
      ]
     },
     "execution_count": 156,
     "metadata": {},
     "output_type": "execute_result"
    }
   ],
   "source": [
    "liquidity"
   ]
  },
  {
   "cell_type": "code",
   "execution_count": 157,
   "id": "465da397",
   "metadata": {},
   "outputs": [
    {
     "data": {
      "text/html": [
       "<div><style>\n",
       ".dataframe > thead > tr > th,\n",
       ".dataframe > tbody > tr > td {\n",
       "  text-align: right;\n",
       "  white-space: pre-wrap;\n",
       "}\n",
       "</style>\n",
       "<small>shape: (1, 2)</small><table border=\"1\" class=\"dataframe\"><thead><tr><th>key</th><th>liquidity_delta</th></tr><tr><td>str</td><td>f64</td></tr></thead><tbody><tr><td>&quot;0x1724b8162669…</td><td>6.5890e20</td></tr></tbody></table></div>"
      ],
      "text/plain": [
       "shape: (1, 2)\n",
       "┌───────────────────────────────────┬─────────────────┐\n",
       "│ key                               ┆ liquidity_delta │\n",
       "│ ---                               ┆ ---             │\n",
       "│ str                               ┆ f64             │\n",
       "╞═══════════════════════════════════╪═════════════════╡\n",
       "│ 0x1724b8162669a3afb86fb56805a2b0… ┆ 6.5890e20       │\n",
       "└───────────────────────────────────┴─────────────────┘"
      ]
     },
     "execution_count": 157,
     "metadata": {},
     "output_type": "execute_result"
    }
   ],
   "source": [
    "lps"
   ]
  },
  {
   "cell_type": "code",
   "execution_count": 43,
   "id": "016d9d98",
   "metadata": {},
   "outputs": [
    {
     "data": {
      "text/plain": [
       "1.0"
      ]
     },
     "execution_count": 43,
     "metadata": {},
     "output_type": "execute_result"
    }
   ],
   "source": [
    "sum(shares.values())"
   ]
  },
  {
   "cell_type": "code",
   "execution_count": 35,
   "id": "81c4501f",
   "metadata": {},
   "outputs": [
    {
     "data": {
      "text/plain": [
       "86844"
      ]
     },
     "execution_count": 35,
     "metadata": {},
     "output_type": "execute_result"
    }
   ],
   "source": [
    "total_time"
   ]
  },
  {
   "cell_type": "code",
   "execution_count": null,
   "id": "eea36f3a",
   "metadata": {},
   "outputs": [],
   "source": []
  }
 ],
 "metadata": {
  "kernelspec": {
   "display_name": "Python 3 (ipykernel)",
   "language": "python",
   "name": "python3"
  },
  "language_info": {
   "codemirror_mode": {
    "name": "ipython",
    "version": 3
   },
   "file_extension": ".py",
   "mimetype": "text/x-python",
   "name": "python",
   "nbconvert_exporter": "python",
   "pygments_lexer": "ipython3",
   "version": "3.11.4"
  }
 },
 "nbformat": 4,
 "nbformat_minor": 5
}
