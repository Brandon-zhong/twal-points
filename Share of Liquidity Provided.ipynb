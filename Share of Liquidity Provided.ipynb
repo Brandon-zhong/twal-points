{
 "cells": [
  {
   "cell_type": "code",
   "execution_count": 2,
   "id": "8ab85aae",
   "metadata": {},
   "outputs": [],
   "source": [
    "import sys\n",
    "import polars as pl\n",
    "from datetime import date, timedelta, datetime, timezone\n",
    "import numpy as np\n",
    "\n",
    "sys.path.append(\"../v3-polars/\")\n",
    "from v3 import state"
   ]
  },
  {
   "cell_type": "code",
   "execution_count": 5,
   "id": "1fc45b0b",
   "metadata": {},
   "outputs": [
    {
     "name": "stdout",
     "output_type": "stream",
     "text": [
      "Starting table factory_pool_created\n",
      "Found 12369739 to 19669984\n",
      "Found data\n",
      "Updated to 19669985 to 19669984\n",
      "Nothing to update\n",
      "Starting table pool_swap_events\n",
      "Found 12369879 to 19669985\n",
      "Found data\n",
      "Updated to 19662557 to 19669985\n",
      "Starting at 19662557\n",
      "Going from 19662557 to 19669985\n",
      "Starting table pool_mint_burn_events\n",
      "Found 12369739 to 19664336\n",
      "Found data\n",
      "Updated to 19657199 to 19664336\n",
      "Starting at 19657199\n",
      "Going from 19657199 to 19664336\n",
      "Starting table pool_initialize_events\n",
      "Found 12369739 to 19658165\n",
      "Found data\n",
      "Updated to 19650824 to 19658165\n",
      "Starting at 19650824\n",
      "Going from 19650824 to 19658165\n"
     ]
    }
   ],
   "source": [
    "poolAddress = '0xbf7d01d6cddecb72c2369d1b421967098b10def7'\n",
    "update = True\n",
    "\n",
    "pool = state.v3Pool(poolAddress, 'ethereum', update = update)\n",
    "\n",
    "swaps = pool.swaps\n",
    "mb = pool.mb"
   ]
  },
  {
   "cell_type": "code",
   "execution_count": 6,
   "id": "1c3dcaf0",
   "metadata": {},
   "outputs": [],
   "source": [
    "_ = '''\n",
    "TODO\n",
    "\n",
    "- I am checking liquidity by a manufactured key (which may get transferred)\n",
    "I need to calculate the key if not nft position manager\n",
    "This can be solved by using tokenid\n",
    "\n",
    "- We distribute as of last swap in the block\n",
    "However, this may pick up JIT liquidity. We can calculate as_of the end of the block,\n",
    "but this will mean we cannot check that we are arriving at the correct number\n",
    "However, I am confident that we are\n",
    "\n",
    "- I am only distributing rewards for the creator of a position\n",
    "We could add a check for transfers to the mb frame\n",
    "'''"
   ]
  },
  {
   "cell_type": "code",
   "execution_count": 7,
   "id": "84be86d3",
   "metadata": {},
   "outputs": [],
   "source": [
    "# key = (from_address-tick_lower-tick_upper)\n",
    "# this is how core indexes positions but uses keccack(key) instead\n",
    "mb = mb.with_columns(key = (pl.col('from_address') + \"-\" + \n",
    "                       pl.col('tick_lower').cast(pl.Utf8) + \"-\" + \n",
    "                       pl.col('tick_upper').cast(pl.Utf8)),\n",
    "                     liquidity_delta = pl.col('type_of_event') * pl.col(\"amount\")\n",
    "                    )"
   ]
  },
  {
   "cell_type": "code",
   "execution_count": 48,
   "id": "f243311b",
   "metadata": {},
   "outputs": [
    {
     "name": "stderr",
     "output_type": "stream",
     "text": [
      "/var/folders/rg/3f5pxvz936b5l2hmxgg3jhl80000gn/T/ipykernel_76377/3729155039.py:5: DeprecationWarning: Creating Datetime ranges using `date_range(s)` is deprecated. Use `datetime_range(s)` instead.\n",
      "  for t_0 in pl.date_range(t_0, t_1, interval = interval, eager = True):\n"
     ]
    },
    {
     "ename": "AssertionError",
     "evalue": "Missing share of time",
     "output_type": "error",
     "traceback": [
      "\u001b[0;31m---------------------------------------------------------------------------\u001b[0m",
      "\u001b[0;31mAssertionError\u001b[0m                            Traceback (most recent call last)",
      "Cell \u001b[0;32mIn[48], line 131\u001b[0m\n\u001b[1;32m    128\u001b[0m         current_share \u001b[38;5;241m=\u001b[39m shares\u001b[38;5;241m.\u001b[39mget(address, \u001b[38;5;241m0\u001b[39m)\n\u001b[1;32m    129\u001b[0m         shares[address] \u001b[38;5;241m=\u001b[39m current_share \u001b[38;5;241m+\u001b[39m twal \u001b[38;5;241m*\u001b[39m (lps[lp] \u001b[38;5;241m/\u001b[39m tracked_liquidity)\n\u001b[0;32m--> 131\u001b[0m     \u001b[38;5;28;01massert\u001b[39;00m np\u001b[38;5;241m.\u001b[39misclose(total_time, \u001b[38;5;28msum\u001b[39m(shares\u001b[38;5;241m.\u001b[39mvalues())), \u001b[38;5;124m'\u001b[39m\u001b[38;5;124mMissing share of time\u001b[39m\u001b[38;5;124m'\u001b[39m\n\u001b[1;32m    133\u001b[0m \u001b[38;5;28;01mfor\u001b[39;00m lp \u001b[38;5;129;01min\u001b[39;00m shares\u001b[38;5;241m.\u001b[39mkeys():\n\u001b[1;32m    134\u001b[0m     shares[lp] \u001b[38;5;241m=\u001b[39m shares[lp] \u001b[38;5;241m/\u001b[39m total_time\n",
      "\u001b[0;31mAssertionError\u001b[0m: Missing share of time"
     ]
    }
   ],
   "source": [
    "t_0 = datetime(year = 2024, month = 3, day = 1)\n",
    "t_1 = datetime(year = 2024, month = 4, day = 14)\n",
    "\n",
    "interval = timedelta(days = 30)\n",
    "for t_0 in pl.date_range(t_0, t_1, interval = interval, eager = True):\n",
    "    \n",
    "    t_1 = t_0 + interval\n",
    "    \n",
    "    tgt_swaps = (swaps\n",
    "            .filter(pl.col('block_timestamp') <= t_1.replace(tzinfo = timezone.utc))\n",
    "            .sort('block_number')\n",
    "            .select('block_number', 'log_index', 'block_timestamp', 'transaction_index', \n",
    "                     'tick', 'liquidity')\n",
    "            )\n",
    "\n",
    "    tgt_mb = (\n",
    "            mb\n",
    "            .filter(pl.col('block_timestamp') <= t_1.replace(tzinfo = timezone.utc))\n",
    "            .filter(pl.col('block_number') >= tgt_swaps['block_number'].min())\n",
    "             .sort('block_number')\n",
    "            .select('block_number', 'log_index', 'block_timestamp', 'transaction_index')\n",
    "            .with_columns(tick = pl.lit(None))\n",
    "            )\n",
    "\n",
    "\n",
    "    tgts = (pl.concat([tgt_swaps, tgt_mb], how = 'diagonal_relaxed')\n",
    "            .sort(by = ['block_number', 'transaction_index', 'log_index'])\n",
    "           )\n",
    "    \n",
    "    tgts = (tgts.join(\n",
    "                # find the last transaction in the block\n",
    "                (tgts \n",
    "                    .select(['block_number', 'transaction_index'])\n",
    "                    .group_by('block_number')\n",
    "                    .last()\n",
    "                    .rename({\"transaction_index\": \"last_index\"})\n",
    "                ),\n",
    "                on = 'block_number', how = 'inner'\n",
    "            )\n",
    "            .filter(pl.col(\"last_index\") == pl.col('transaction_index'))\n",
    "            )\n",
    "    \n",
    "    tgts = (tgts.join(\n",
    "                # find the last transaction in the block\n",
    "                (tgts \n",
    "                    .select(['block_number', 'log_index'])\n",
    "                    .group_by('block_number')\n",
    "                    .last()\n",
    "                    .rename({\"log_index\": \"last_log\"})\n",
    "                ),\n",
    "                on = 'block_number', how = 'inner'\n",
    "            )\n",
    "            .filter(pl.col(\"last_log\") == pl.col('log_index'))\n",
    "            .with_columns(twal=pl.col(\"block_timestamp\").diff().dt.seconds(),\n",
    "                          tick = pl.col('tick').forward_fill())\n",
    "            )\n",
    "    \n",
    "    subset = tgts.filter(pl.col('block_timestamp') >= t_0.replace(tzinfo = timezone.utc))\n",
    "    \n",
    "    if subset.is_empty():\n",
    "        subset = tgts.tail(1)\n",
    "        \n",
    "    data = []\n",
    "\n",
    "    iterator = (\n",
    "        subset\n",
    "        .select(['block_number', 'transaction_index', \n",
    "                 'tick', 'liquidity', 'twal'])\n",
    "        .sort('block_number')\n",
    "    )\n",
    "\n",
    "    missing_liquidity = False\n",
    "    for (bn, tx_index, tick, liquidity, twal) in iterator.iter_rows():\n",
    "        missing_liquidity = (liquidity == None)\n",
    "\n",
    "        tick = int(tick)\n",
    "\n",
    "        # decimalized version of block, index\n",
    "        as_of = bn + tx_index / 1e4\n",
    "\n",
    "        # calculate all lps in range as of the period we want\n",
    "        lps = (mb\n",
    "                 .filter((pl.col(\"as_of\") < as_of) &\n",
    "                         # positions are in range if tl <= tick < tu\n",
    "                         (pl.col(\"tick_lower\") <= tick) & \n",
    "                         (pl.col('tick_upper') > tick)\n",
    "                        )\n",
    "                 .select(['key', 'liquidity_delta'])\n",
    "                 .group_by('key')\n",
    "                 .sum()\n",
    "                 # filter out the empty positions\n",
    "                 .filter(pl.col(\"liquidity_delta\") != 0)\n",
    "                )\n",
    "\n",
    "        # TODO\n",
    "        # this is possible if there was a transfer of liquidity \n",
    "        # we could instead check via tokenID (which cannot change)\n",
    "        assert lps.filter(pl.col('liquidity_delta') < 0).is_empty(), \"Negative liquidity\"\n",
    "\n",
    "        # we know that all lps are positive and in-range\n",
    "        tracked_liquidity = 0\n",
    "        lp_dict = {}\n",
    "\n",
    "        # calculate their shares\n",
    "        for key, liquidity_delta in lps.iter_rows():\n",
    "            tracked_liquidity += liquidity_delta\n",
    "\n",
    "            lp_dict[key] = liquidity_delta\n",
    "\n",
    "        # we know that all liquidity is tracked and their shares    \n",
    "        # most likely issue here is a floating point error\n",
    "        if not missing_liquidity:\n",
    "            liquidity = int(liquidity)\n",
    "            assert np.isclose(float(liquidity), float(tracked_liquidity)), \"Missing liquidity\"\n",
    "\n",
    "        data.append([bn, twal, liquidity, lp_dict.copy()])\n",
    "        \n",
    "    shares = {}\n",
    "    total_time = 0\n",
    "    \n",
    "    for bn, twal, liquidity, lps in data:\n",
    "        total_time += twal\n",
    "    \n",
    "        for lp in lps.keys():\n",
    "            # schema = (address, tl, tu)\n",
    "            address = lp.split(\"-\")[0]\n",
    "\n",
    "            current_share = shares.get(address, 0)\n",
    "            shares[address] = current_share + twal * (lps[lp] / tracked_liquidity)\n",
    "\n",
    "        assert np.isclose(total_time, sum(shares.values())), 'Missing share of time'\n",
    "\n",
    "    for lp in shares.keys():\n",
    "        shares[lp] = shares[lp] / total_time\n",
    "    \n",
    "    print(shares)"
   ]
  },
  {
   "cell_type": "code",
   "execution_count": 52,
   "id": "ff9bb6ea",
   "metadata": {},
   "outputs": [
    {
     "data": {
      "text/plain": [
       "1476"
      ]
     },
     "execution_count": 52,
     "metadata": {},
     "output_type": "execute_result"
    }
   ],
   "source": [
    "total_time"
   ]
  },
  {
   "cell_type": "code",
   "execution_count": 50,
   "id": "8d5f2f0b",
   "metadata": {},
   "outputs": [
    {
     "data": {
      "text/plain": [
       "dict_values([8240.636037719229, 14866.348966987453])"
      ]
     },
     "execution_count": 50,
     "metadata": {},
     "output_type": "execute_result"
    }
   ],
   "source": [
    "shares.values()"
   ]
  },
  {
   "cell_type": "code",
   "execution_count": 42,
   "id": "63d91369",
   "metadata": {},
   "outputs": [
    {
     "data": {
      "text/plain": [
       "{}"
      ]
     },
     "execution_count": 42,
     "metadata": {},
     "output_type": "execute_result"
    }
   ],
   "source": [
    "lps"
   ]
  },
  {
   "cell_type": "code",
   "execution_count": 154,
   "id": "f473f33d",
   "metadata": {},
   "outputs": [],
   "source": [
    "tick, liquidity = int(tick), int(liquidity)\n",
    "\n",
    "# decimalized version of block, index\n",
    "as_of = bn + tx_index / 1e4\n",
    "\n",
    "# calculate all lps in range as of the period we want\n",
    "lps = (mb\n",
    "         .filter((pl.col(\"as_of\") <= as_of) &\n",
    "                 # positions are in range if tl <= tick < tu\n",
    "                 (pl.col(\"tick_lower\") <= tick) & \n",
    "                 (pl.col('tick_upper') > tick)\n",
    "                )\n",
    "         .select(['key', 'liquidity_delta'])\n",
    "         .group_by('key')\n",
    "         .sum()\n",
    "         # filter out the empty positions\n",
    "         .filter(pl.col(\"liquidity_delta\") != 0)\n",
    "        )\n"
   ]
  },
  {
   "cell_type": "code",
   "execution_count": 18,
   "id": "d0660b5b",
   "metadata": {},
   "outputs": [],
   "source": [
    "liquidity"
   ]
  },
  {
   "cell_type": "code",
   "execution_count": 163,
   "id": "fa719f9e",
   "metadata": {},
   "outputs": [
    {
     "data": {
      "text/html": [
       "<div><style>\n",
       ".dataframe > thead > tr > th,\n",
       ".dataframe > tbody > tr > td {\n",
       "  text-align: right;\n",
       "  white-space: pre-wrap;\n",
       "}\n",
       "</style>\n",
       "<small>shape: (4_193, 8)</small><table border=\"1\" class=\"dataframe\"><thead><tr><th>block_number</th><th>block_timestamp</th><th>transaction_index</th><th>tick</th><th>liquidity</th><th>liquidity_delta</th><th>twal</th><th>last_index</th></tr><tr><td>i64</td><td>datetime[μs, UTC]</td><td>i64</td><td>str</td><td>str</td><td>f64</td><td>i64</td><td>i64</td></tr></thead><tbody><tr><td>19317887</td><td>2024-02-27 09:06:35 UTC</td><td>151</td><td>&quot;265&quot;</td><td>&quot;36786839939111…</td><td>NaN</td><td>null</td><td>151</td></tr><tr><td>19317956</td><td>2024-02-27 09:20:35 UTC</td><td>52</td><td>&quot;266&quot;</td><td>&quot;36786839939111…</td><td>NaN</td><td>840</td><td>52</td></tr><tr><td>19317964</td><td>2024-02-27 09:22:11 UTC</td><td>57</td><td>&quot;272&quot;</td><td>&quot;36786839939111…</td><td>NaN</td><td>96</td><td>57</td></tr><tr><td>19317990</td><td>2024-02-27 09:27:23 UTC</td><td>83</td><td>&quot;277&quot;</td><td>&quot;36786839939111…</td><td>NaN</td><td>312</td><td>83</td></tr><tr><td>19318086</td><td>2024-02-27 09:46:47 UTC</td><td>78</td><td>&quot;278&quot;</td><td>&quot;36786839939111…</td><td>NaN</td><td>1164</td><td>78</td></tr><tr><td>19318110</td><td>2024-02-27 09:51:35 UTC</td><td>66</td><td>&quot;280&quot;</td><td>&quot;36786839939111…</td><td>NaN</td><td>288</td><td>66</td></tr><tr><td>19318230</td><td>2024-02-27 10:15:47 UTC</td><td>180</td><td>&quot;281&quot;</td><td>&quot;36786839939111…</td><td>NaN</td><td>1452</td><td>180</td></tr><tr><td>19318277</td><td>2024-02-27 10:25:11 UTC</td><td>115</td><td>&quot;303&quot;</td><td>&quot;36786839939111…</td><td>NaN</td><td>564</td><td>115</td></tr><tr><td>19318301</td><td>2024-02-27 10:29:59 UTC</td><td>124</td><td>&quot;308&quot;</td><td>&quot;36786839939111…</td><td>NaN</td><td>288</td><td>124</td></tr><tr><td>19318393</td><td>2024-02-27 10:48:23 UTC</td><td>148</td><td>&quot;308&quot;</td><td>&quot;36786839939111…</td><td>NaN</td><td>1104</td><td>148</td></tr><tr><td>19318427</td><td>2024-02-27 10:55:11 UTC</td><td>179</td><td>&quot;309&quot;</td><td>&quot;36786839939111…</td><td>NaN</td><td>408</td><td>179</td></tr><tr><td>19318494</td><td>2024-02-27 11:08:35 UTC</td><td>102</td><td>&quot;308&quot;</td><td>&quot;36786839939111…</td><td>NaN</td><td>804</td><td>102</td></tr><tr><td>&hellip;</td><td>&hellip;</td><td>&hellip;</td><td>&hellip;</td><td>&hellip;</td><td>&hellip;</td><td>&hellip;</td><td>&hellip;</td></tr><tr><td>19660436</td><td>2024-04-15 10:53:23 UTC</td><td>32</td><td>&quot;92&quot;</td><td>&quot;65889787513485…</td><td>NaN</td><td>456</td><td>32</td></tr><tr><td>19660452</td><td>2024-04-15 10:56:35 UTC</td><td>194</td><td>&quot;90&quot;</td><td>&quot;65889787513485…</td><td>NaN</td><td>192</td><td>194</td></tr><tr><td>19660468</td><td>2024-04-15 10:59:47 UTC</td><td>47</td><td>&quot;87&quot;</td><td>&quot;65889787513485…</td><td>NaN</td><td>192</td><td>47</td></tr><tr><td>19660474</td><td>2024-04-15 11:00:59 UTC</td><td>156</td><td>&quot;93&quot;</td><td>&quot;65889787513485…</td><td>NaN</td><td>72</td><td>156</td></tr><tr><td>19660477</td><td>2024-04-15 11:01:35 UTC</td><td>183</td><td>&quot;91&quot;</td><td>&quot;65889787513485…</td><td>NaN</td><td>36</td><td>183</td></tr><tr><td>19660625</td><td>2024-04-15 11:31:23 UTC</td><td>156</td><td>&quot;91&quot;</td><td>&quot;65889787513485…</td><td>NaN</td><td>1788</td><td>156</td></tr><tr><td>19660664</td><td>2024-04-15 11:39:11 UTC</td><td>126</td><td>&quot;71&quot;</td><td>&quot;65889787513485…</td><td>NaN</td><td>468</td><td>126</td></tr><tr><td>19661011</td><td>2024-04-15 12:48:47 UTC</td><td>2</td><td>&quot;69&quot;</td><td>&quot;0&quot;</td><td>NaN</td><td>4176</td><td>2</td></tr><tr><td>19661179</td><td>2024-04-15 13:22:47 UTC</td><td>127</td><td>&quot;82&quot;</td><td>&quot;65889787513485…</td><td>NaN</td><td>2040</td><td>127</td></tr><tr><td>19661862</td><td>2024-04-15 15:40:11 UTC</td><td>41</td><td>&quot;72&quot;</td><td>&quot;65889787513485…</td><td>NaN</td><td>8244</td><td>41</td></tr><tr><td>19662113</td><td>2024-04-15 16:30:35 UTC</td><td>83</td><td>&quot;73&quot;</td><td>&quot;65889787513485…</td><td>NaN</td><td>3024</td><td>83</td></tr><tr><td>19662422</td><td>2024-04-15 17:33:11 UTC</td><td>117</td><td>&quot;78&quot;</td><td>&quot;65889787513485…</td><td>NaN</td><td>3756</td><td>117</td></tr></tbody></table></div>"
      ],
      "text/plain": [
       "shape: (4_193, 8)\n",
       "┌──────────────┬──────────────┬─────────────┬──────┬─────────────┬─────────────┬──────┬────────────┐\n",
       "│ block_number ┆ block_timest ┆ transaction ┆ tick ┆ liquidity   ┆ liquidity_d ┆ twal ┆ last_index │\n",
       "│ ---          ┆ amp          ┆ _index      ┆ ---  ┆ ---         ┆ elta        ┆ ---  ┆ ---        │\n",
       "│ i64          ┆ ---          ┆ ---         ┆ str  ┆ str         ┆ ---         ┆ i64  ┆ i64        │\n",
       "│              ┆ datetime[μs, ┆ i64         ┆      ┆             ┆ f64         ┆      ┆            │\n",
       "│              ┆ UTC]         ┆             ┆      ┆             ┆             ┆      ┆            │\n",
       "╞══════════════╪══════════════╪═════════════╪══════╪═════════════╪═════════════╪══════╪════════════╡\n",
       "│ 19317887     ┆ 2024-02-27   ┆ 151         ┆ 265  ┆ 36786839939 ┆ NaN         ┆ null ┆ 151        │\n",
       "│              ┆ 09:06:35 UTC ┆             ┆      ┆ 11185299506 ┆             ┆      ┆            │\n",
       "│ 19317956     ┆ 2024-02-27   ┆ 52          ┆ 266  ┆ 36786839939 ┆ NaN         ┆ 840  ┆ 52         │\n",
       "│              ┆ 09:20:35 UTC ┆             ┆      ┆ 11185299506 ┆             ┆      ┆            │\n",
       "│ 19317964     ┆ 2024-02-27   ┆ 57          ┆ 272  ┆ 36786839939 ┆ NaN         ┆ 96   ┆ 57         │\n",
       "│              ┆ 09:22:11 UTC ┆             ┆      ┆ 11185299506 ┆             ┆      ┆            │\n",
       "│ 19317990     ┆ 2024-02-27   ┆ 83          ┆ 277  ┆ 36786839939 ┆ NaN         ┆ 312  ┆ 83         │\n",
       "│              ┆ 09:27:23 UTC ┆             ┆      ┆ 11185299506 ┆             ┆      ┆            │\n",
       "│ …            ┆ …            ┆ …           ┆ …    ┆ …           ┆ …           ┆ …    ┆ …          │\n",
       "│ 19661179     ┆ 2024-04-15   ┆ 127         ┆ 82   ┆ 65889787513 ┆ NaN         ┆ 2040 ┆ 127        │\n",
       "│              ┆ 13:22:47 UTC ┆             ┆      ┆ 4854891027  ┆             ┆      ┆            │\n",
       "│ 19661862     ┆ 2024-04-15   ┆ 41          ┆ 72   ┆ 65889787513 ┆ NaN         ┆ 8244 ┆ 41         │\n",
       "│              ┆ 15:40:11 UTC ┆             ┆      ┆ 4854891027  ┆             ┆      ┆            │\n",
       "│ 19662113     ┆ 2024-04-15   ┆ 83          ┆ 73   ┆ 65889787513 ┆ NaN         ┆ 3024 ┆ 83         │\n",
       "│              ┆ 16:30:35 UTC ┆             ┆      ┆ 4854891027  ┆             ┆      ┆            │\n",
       "│ 19662422     ┆ 2024-04-15   ┆ 117         ┆ 78   ┆ 65889787513 ┆ NaN         ┆ 3756 ┆ 117        │\n",
       "│              ┆ 17:33:11 UTC ┆             ┆      ┆ 4854891027  ┆             ┆      ┆            │\n",
       "└──────────────┴──────────────┴─────────────┴──────┴─────────────┴─────────────┴──────┴────────────┘"
      ]
     },
     "execution_count": 163,
     "metadata": {},
     "output_type": "execute_result"
    }
   ],
   "source": [
    "(\n",
    "    tgts\n",
    "            .join(\n",
    "                # find the last transaction in the block\n",
    "                (tgts \n",
    "                    .select(['block_number', 'transaction_index'])\n",
    "                    .group_by('block_number')\n",
    "                    .last()\n",
    "                    .rename({\"transaction_index\": \"last_index\"})\n",
    "                ),\n",
    "                on = 'block_number', how = 'inner'\n",
    "            )\n",
    "     .filter(pl.col(\"last_index\") == pl.col('transaction_index'))\n",
    "    )"
   ]
  },
  {
   "cell_type": "code",
   "execution_count": 158,
   "id": "1fcd649d",
   "metadata": {},
   "outputs": [
    {
     "data": {
      "text/plain": [
       "-1.3330303255957763e+24"
      ]
     },
     "execution_count": 158,
     "metadata": {},
     "output_type": "execute_result"
    }
   ],
   "source": [
    "ld"
   ]
  },
  {
   "cell_type": "code",
   "execution_count": 155,
   "id": "32fc8da5",
   "metadata": {},
   "outputs": [
    {
     "data": {
      "text/plain": [
       "113"
      ]
     },
     "execution_count": 155,
     "metadata": {},
     "output_type": "execute_result"
    }
   ],
   "source": [
    "tick"
   ]
  },
  {
   "cell_type": "code",
   "execution_count": 156,
   "id": "34de7ace",
   "metadata": {},
   "outputs": [
    {
     "data": {
      "text/plain": [
       "658897875134854891027"
      ]
     },
     "execution_count": 156,
     "metadata": {},
     "output_type": "execute_result"
    }
   ],
   "source": [
    "liquidity"
   ]
  },
  {
   "cell_type": "code",
   "execution_count": 157,
   "id": "465da397",
   "metadata": {},
   "outputs": [
    {
     "data": {
      "text/html": [
       "<div><style>\n",
       ".dataframe > thead > tr > th,\n",
       ".dataframe > tbody > tr > td {\n",
       "  text-align: right;\n",
       "  white-space: pre-wrap;\n",
       "}\n",
       "</style>\n",
       "<small>shape: (1, 2)</small><table border=\"1\" class=\"dataframe\"><thead><tr><th>key</th><th>liquidity_delta</th></tr><tr><td>str</td><td>f64</td></tr></thead><tbody><tr><td>&quot;0x1724b8162669…</td><td>6.5890e20</td></tr></tbody></table></div>"
      ],
      "text/plain": [
       "shape: (1, 2)\n",
       "┌───────────────────────────────────┬─────────────────┐\n",
       "│ key                               ┆ liquidity_delta │\n",
       "│ ---                               ┆ ---             │\n",
       "│ str                               ┆ f64             │\n",
       "╞═══════════════════════════════════╪═════════════════╡\n",
       "│ 0x1724b8162669a3afb86fb56805a2b0… ┆ 6.5890e20       │\n",
       "└───────────────────────────────────┴─────────────────┘"
      ]
     },
     "execution_count": 157,
     "metadata": {},
     "output_type": "execute_result"
    }
   ],
   "source": [
    "lps"
   ]
  },
  {
   "cell_type": "code",
   "execution_count": 43,
   "id": "016d9d98",
   "metadata": {},
   "outputs": [
    {
     "data": {
      "text/plain": [
       "1.0"
      ]
     },
     "execution_count": 43,
     "metadata": {},
     "output_type": "execute_result"
    }
   ],
   "source": [
    "sum(shares.values())"
   ]
  },
  {
   "cell_type": "code",
   "execution_count": 35,
   "id": "81c4501f",
   "metadata": {},
   "outputs": [
    {
     "data": {
      "text/plain": [
       "86844"
      ]
     },
     "execution_count": 35,
     "metadata": {},
     "output_type": "execute_result"
    }
   ],
   "source": [
    "total_time"
   ]
  },
  {
   "cell_type": "code",
   "execution_count": null,
   "id": "eea36f3a",
   "metadata": {},
   "outputs": [],
   "source": []
  }
 ],
 "metadata": {
  "kernelspec": {
   "display_name": "Python 3 (ipykernel)",
   "language": "python",
   "name": "python3"
  },
  "language_info": {
   "codemirror_mode": {
    "name": "ipython",
    "version": 3
   },
   "file_extension": ".py",
   "mimetype": "text/x-python",
   "name": "python",
   "nbconvert_exporter": "python",
   "pygments_lexer": "ipython3",
   "version": "3.11.4"
  }
 },
 "nbformat": 4,
 "nbformat_minor": 5
}
