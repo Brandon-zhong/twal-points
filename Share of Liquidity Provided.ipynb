{
 "cells": [
  {
   "cell_type": "code",
   "execution_count": 257,
   "id": "8ab85aae",
   "metadata": {},
   "outputs": [
    {
     "name": "stdout",
     "output_type": "stream",
     "text": [
      "The autoreload extension is already loaded. To reload it, use:\n",
      "  %reload_ext autoreload\n"
     ]
    }
   ],
   "source": [
    "import sys\n",
    "import polars as pl\n",
    "from datetime import date, timedelta, datetime, timezone\n",
    "\n",
    "sys.path.append(\"../v3-polars/\")\n",
    "from v3 import state"
   ]
  },
  {
   "cell_type": "code",
   "execution_count": 258,
   "id": "1fc45b0b",
   "metadata": {},
   "outputs": [],
   "source": [
    "poolAddress = '0xbf7d01d6cddecb72c2369d1b421967098b10def7'\n",
    "update = False\n",
    "\n",
    "pool = state.v3Pool(poolAddress, 'ethereum', update = update)\n",
    "\n",
    "swaps = pool.swaps\n",
    "mb = pool.mb"
   ]
  },
  {
   "cell_type": "code",
   "execution_count": 265,
   "id": "1c3dcaf0",
   "metadata": {},
   "outputs": [],
   "source": [
    "_ = '''\n",
    "TODO\n",
    "\n",
    "- I am checking liquidity by a manufactured key (which may get transferred)\n",
    "I need to calculate the key if not nft position manager\n",
    "This can be solved by using tokenid\n",
    "\n",
    "- We distribute as of last swap in the block\n",
    "However, this may pick up JIT liquidity. We can calculate as_of the end of the block,\n",
    "but this will mean we cannot check that we are arriving at the correct number\n",
    "However, I am confident that we are\n",
    "\n",
    "- I am only distributing rewards for the creator of a position\n",
    "We could add a check for transfers to the mb frame\n",
    "'''"
   ]
  },
  {
   "cell_type": "code",
   "execution_count": 260,
   "id": "84be86d3",
   "metadata": {},
   "outputs": [],
   "source": [
    "# key = (from_address-tick_lower-tick_upper)\n",
    "# this is how core indexes positions but uses keccack(key) instead\n",
    "mb = mb.with_columns(key = (pl.col('from_address') + \"-\" + \n",
    "                       pl.col('tick_lower').cast(pl.Utf8) + \"-\" + \n",
    "                       pl.col('tick_upper').cast(pl.Utf8)),\n",
    "                     liquidity_delta = pl.col('type_of_event') * pl.col(\"amount\")\n",
    "                    )"
   ]
  },
  {
   "cell_type": "code",
   "execution_count": 261,
   "id": "f473f33d",
   "metadata": {},
   "outputs": [],
   "source": [
    "tgt_swaps = (\n",
    "                # we want only the last tx to ensure we arent checking for mid swap stuff\n",
    "                # and to ensure the time weight isnt just 0\n",
    "                 swaps\n",
    "                .join(\n",
    "                    # find the last transaction in the block\n",
    "                    (swaps \n",
    "                        .select(['block_number', 'transaction_index'])\n",
    "                        .group_by('block_number')\n",
    "                        .last()\n",
    "                        .rename({\"transaction_index\": \"last_index\"})\n",
    "                    ),\n",
    "                    on = 'block_number', how = 'inner'\n",
    "                )\n",
    "                # drop all txs that arent the final swap\n",
    "                .filter(pl.col(\"last_index\") == pl.col('transaction_index'))\n",
    "                .sort('block_number')\n",
    "               # calculate time-weight\n",
    "                .with_columns(twal = pl.col(\"block_timestamp\").diff().dt.seconds())\n",
    "                 .filter(~pl.col('twal').is_null())\n",
    "            )"
   ]
  },
  {
   "cell_type": "code",
   "execution_count": 262,
   "id": "32fc8da5",
   "metadata": {},
   "outputs": [],
   "source": [
    "data = []\n",
    "\n",
    "iterator = (\n",
    "    tgt_swaps\n",
    "    .select(['block_number', 'transaction_index', \n",
    "             'tick', 'liquidity', 'twal'])\n",
    "    .sort('block_number')\n",
    ")\n",
    "\n",
    "for (bn, tx_index, tick, liquidity, twal) in iterator.iter_rows():\n",
    "    tick, liquidity = int(tick), int(liquidity)\n",
    "\n",
    "    # decimalized version of block, index\n",
    "    as_of = bn + tx_index / 1e4\n",
    "\n",
    "    # cxalculate all lps in range as of the period we want\n",
    "    lps = (mb\n",
    "             .filter((pl.col(\"as_of\") <= as_of) &\n",
    "                     # positions are in range if tl <= tick < tu\n",
    "                     (pl.col(\"tick_lower\") <= tick) & \n",
    "                     (pl.col('tick_upper') > tick)\n",
    "                    )\n",
    "             .select(['key', 'liquidity_delta'])\n",
    "             .group_by('key')\n",
    "             .sum()\n",
    "             # filter out the empty positions\n",
    "             .filter(pl.col(\"liquidity_delta\") != 0)\n",
    "            )\n",
    "\n",
    "    # TODO\n",
    "    # this is possible if there was a transfer of liquidity \n",
    "    # we could instead check via tokenID (which cannot change)\n",
    "    assert lps.filter(pl.col('liquidity_delta') < 0).is_empty(), \"Negative liquidity\"\n",
    "\n",
    "    # we know that all lps are positive and in-range\n",
    "    tracked_liquidity = 0\n",
    "    lp_dict = {}\n",
    "\n",
    "    # calculate their shares\n",
    "    for key, liquidity_delta in lps.iter_rows():\n",
    "        tracked_liquidity += liquidity_delta\n",
    "\n",
    "        lp_dict[key] = liquidity_delta\n",
    "\n",
    "    # we know that all liquidity is tracked and their shares    \n",
    "    # most likely issue here is a floating point error\n",
    "    assert np.isclose(float(liquidity), float(tracked_liquidity)), \"Missing liquidity\"\n",
    "\n",
    "    data.append([bn, twal, liquidity, lp_dict.copy()])"
   ]
  },
  {
   "cell_type": "code",
   "execution_count": 263,
   "id": "34de7ace",
   "metadata": {},
   "outputs": [],
   "source": [
    "shares = {}\n",
    "total_time = 0\n",
    "for bn, twal, liquidity, lps in data:\n",
    "    total_time += twal\n",
    "    for lp in lps.keys():\n",
    "        # schema = (address, tl, tu)\n",
    "        address = lp.split(\"-\")[0]\n",
    "\n",
    "        current_share = shares.get(address, 0)\n",
    "        shares[address] = current_share + twal * (lps[lp] / liquidity)\n",
    "    \n",
    "assert np.isclose(total_time, sum(shares.values())), 'Missing share of time'\n",
    "\n",
    "for lp in shares.keys():\n",
    "    shares[lp] = shares[lp] / total_time"
   ]
  },
  {
   "cell_type": "code",
   "execution_count": 264,
   "id": "465da397",
   "metadata": {},
   "outputs": [
    {
     "data": {
      "text/plain": [
       "{'0xa58627a29bb59743ce1d781b1072c59bb1dda86d': 0.14208935151465818,\n",
       " '0xd360ecb91406717ad13c4fae757b69b417e2af6b': 0.004082604356818385,\n",
       " '0x063bfaefcee849547eb2a344275f62537f56eec7': 0.368952282574693,\n",
       " '0x1724b8162669a3afb86fb56805a2b097b05ffd9f': 0.3857316375779994,\n",
       " '0x4ef9f74db039959ffa54d28edd7096fca8760a8e': 0.00199362442263961,\n",
       " '0x9d8320c0d6f0130434fb945072d6fff879576697': 0.09715049955318936}"
      ]
     },
     "execution_count": 264,
     "metadata": {},
     "output_type": "execute_result"
    }
   ],
   "source": [
    "shares"
   ]
  },
  {
   "cell_type": "code",
   "execution_count": null,
   "id": "016d9d98",
   "metadata": {},
   "outputs": [],
   "source": []
  }
 ],
 "metadata": {
  "kernelspec": {
   "display_name": "Python 3 (ipykernel)",
   "language": "python",
   "name": "python3"
  },
  "language_info": {
   "codemirror_mode": {
    "name": "ipython",
    "version": 3
   },
   "file_extension": ".py",
   "mimetype": "text/x-python",
   "name": "python",
   "nbconvert_exporter": "python",
   "pygments_lexer": "ipython3",
   "version": "3.11.4"
  }
 },
 "nbformat": 4,
 "nbformat_minor": 5
}
